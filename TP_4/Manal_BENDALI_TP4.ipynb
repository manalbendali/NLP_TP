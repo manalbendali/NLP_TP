{
  "nbformat": 4,
  "nbformat_minor": 0,
  "metadata": {
    "colab": {
      "provenance": []
    },
    "kernelspec": {
      "name": "python3",
      "display_name": "Python 3"
    },
    "language_info": {
      "name": "python"
    }
  },
  "cells": [
    {
      "cell_type": "markdown",
      "source": [
        "adding miniconda"
      ],
      "metadata": {
        "id": "Mh1QVwaTxKdr"
      }
    },
    {
      "cell_type": "code",
      "execution_count": null,
      "metadata": {
        "id": "KlGyeS4gJDIq"
      },
      "outputs": [],
      "source": [
        "!wget https://repo.continuum.io/miniconda/Miniconda3-4.5.4-Linux-x86_64.sh && bash Miniconda3-4.5.4-Linux-x86_64.sh -bfp /usr/local\n",
        "!conda update conda -y -q\n",
        "!source /usr/local/etc/profile.d/conda.sh\n",
        "!conda init\n",
        "!conda install -n root _license -y -q"
      ]
    },
    {
      "cell_type": "markdown",
      "source": [
        "creating new python environement"
      ],
      "metadata": {
        "id": "t0P57xXOxPog"
      }
    },
    {
      "cell_type": "code",
      "source": [
        "!conda create -y -q --name myenv python=3.7"
      ],
      "metadata": {
        "id": "p8JBLNbrKYDm"
      },
      "execution_count": null,
      "outputs": []
    },
    {
      "cell_type": "markdown",
      "source": [
        "checking python version and if everything went well"
      ],
      "metadata": {
        "id": "mt5FVLQVx1Kk"
      }
    },
    {
      "cell_type": "code",
      "source": [
        "%%bash\n",
        "source activate myenv\n",
        "python\n",
        "import sys\n",
        "sys.path.append('/usr/local/lib/python3.6/site-packages')\n",
        "print(sys.path)\n",
        "print(\"Python version\")\n",
        "print(sys.version)"
      ],
      "metadata": {
        "id": "0p7AY_K0KsnS"
      },
      "execution_count": null,
      "outputs": []
    },
    {
      "cell_type": "markdown",
      "source": [
        "upgrading pip"
      ],
      "metadata": {
        "id": "xeAp1AOnx8hR"
      }
    },
    {
      "cell_type": "code",
      "source": [
        "!source activate myenv\n",
        "!python -m pip uninstall pip\n",
        "!python -m ensurepip\n",
        "!python -m pip install -U pip"
      ],
      "metadata": {
        "id": "FahWPJCsLDUk"
      },
      "execution_count": null,
      "outputs": []
    },
    {
      "cell_type": "markdown",
      "source": [
        "Installing Rasa"
      ],
      "metadata": {
        "id": "MBdTQk5EyFVy"
      }
    },
    {
      "cell_type": "code",
      "source": [
        "!source activate myenv\n",
        "!pip install rasa"
      ],
      "metadata": {
        "id": "VoUDBke2RbbY"
      },
      "execution_count": null,
      "outputs": []
    },
    {
      "cell_type": "markdown",
      "source": [
        "Begin Rasa!"
      ],
      "metadata": {
        "id": "TirYGTNny3Sm"
      }
    },
    {
      "cell_type": "code",
      "source": [
        "!source activate myenv\n",
        "!pip install python-dotenv"
      ],
      "metadata": {
        "id": "gINTPUvyy6FY"
      },
      "execution_count": null,
      "outputs": []
    },
    {
      "cell_type": "code",
      "source": [
        "!source activate myenv\n",
        "!rasa init --no-prompt"
      ],
      "metadata": {
        "id": "zovYTA-Uy_Ly"
      },
      "execution_count": null,
      "outputs": []
    },
    {
      "cell_type": "code",
      "source": [
        "!source activate myenv\n",
        "!rasa train\n",
        "!rasa shell nlu"
      ],
      "metadata": {
        "id": "nc9CPEgyzEsQ"
      },
      "execution_count": null,
      "outputs": []
    },
    {
      "cell_type": "code",
      "source": [
        "from google.colab import drive\n",
        "drive.mount('/content/drive')"
      ],
      "metadata": {
        "id": "CBN0IieV2LDI"
      },
      "execution_count": null,
      "outputs": []
    },
    {
      "cell_type": "code",
      "source": [
        "!zip -r /content/file.zip /content"
      ],
      "metadata": {
        "id": "-X7rjBy3zHl4"
      },
      "execution_count": null,
      "outputs": []
    }
  ]
}