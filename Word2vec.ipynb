{
  "nbformat": 4,
  "nbformat_minor": 0,
  "metadata": {
    "colab": {
      "provenance": []
    },
    "kernelspec": {
      "name": "python3",
      "display_name": "Python 3"
    },
    "language_info": {
      "name": "python"
    }
  },
  "cells": [
    {
      "cell_type": "markdown",
      "source": [
        "# ***TP 2 : Word Embedding par word2vec***"
      ],
      "metadata": {
        "id": "wytIoHxqJOMd"
      }
    },
    {
      "cell_type": "code",
      "source": [
        "import gensim\n",
        "from gensim.models import Word2Vec\n",
        "from gensim.utils import simple_preprocess\n",
        "from gensim.models import KeyedVectors\n"
      ],
      "metadata": {
        "id": "1JiGt2PGJGFk"
      },
      "execution_count": 2,
      "outputs": []
    },
    {
      "cell_type": "markdown",
      "source": [
        "### Loading data :"
      ],
      "metadata": {
        "id": "ggjzKwA3OpUL"
      }
    },
    {
      "cell_type": "code",
      "source": [
        "with open('text', 'r', encoding='utf-8') as file:\n",
        "    text = file.read()"
      ],
      "metadata": {
        "id": "55fzmqbKIfCL"
      },
      "execution_count": 4,
      "outputs": []
    },
    {
      "cell_type": "markdown",
      "source": [
        "# ***start treatment :***"
      ],
      "metadata": {
        "id": "_XjnC7XSJjQb"
      }
    },
    {
      "cell_type": "markdown",
      "source": [
        "**first we should clean our text by preprocessing**"
      ],
      "metadata": {
        "id": "yXGVpWg2ME30"
      }
    },
    {
      "cell_type": "code",
      "source": [
        "def preprocess_text(text):\n",
        "    cleaned_text = text.lower()\n",
        "    # Tokenization\n",
        "    tokenized_text = simple_preprocess(cleaned_text)\n",
        "    return tokenized_text\n",
        "tokenized_text = preprocess_text(text)"
      ],
      "metadata": {
        "id": "WrTIWoDOJNVT"
      },
      "execution_count": 5,
      "outputs": []
    },
    {
      "cell_type": "markdown",
      "source": [
        "## Modele Word2Vec"
      ],
      "metadata": {
        "id": "BdWPxijqU10z"
      }
    },
    {
      "cell_type": "code",
      "source": [
        "model = Word2Vec(sentences=[tokenized_text], vector_size=100, window=5, min_count=1, workers=4)"
      ],
      "metadata": {
        "id": "1OlnDMxaJtRn"
      },
      "execution_count": 6,
      "outputs": []
    },
    {
      "cell_type": "code",
      "source": [
        "model.save(\"word2vec_model.bin\")"
      ],
      "metadata": {
        "id": "LSxS3brdKCUj"
      },
      "execution_count": 7,
      "outputs": []
    },
    {
      "cell_type": "code",
      "source": [
        "word_vector = model.wv[\"marrakech\"]\n",
        "print(\"Représentation vectorielle du mot 'marrakech':\\n\", word_vector)"
      ],
      "metadata": {
        "colab": {
          "base_uri": "https://localhost:8080/"
        },
        "id": "mxhltbJfKGL3",
        "outputId": "373ab730-8b18-41ac-c8b1-9aa8c375e102"
      },
      "execution_count": 8,
      "outputs": [
        {
          "output_type": "stream",
          "name": "stdout",
          "text": [
            "Représentation vectorielle du mot 'marrakech':\n",
            " [-8.2152579e-03  9.5023429e-03 -1.4681094e-04 -1.8904333e-03\n",
            "  4.7165016e-03 -4.4709281e-03  3.0015814e-03  7.4205161e-03\n",
            "  5.8109951e-03 -7.7310214e-03  9.4109727e-03  4.3714885e-03\n",
            "  3.7753065e-03 -6.1399019e-03  8.3038369e-03 -2.3516200e-03\n",
            "  8.7966314e-03 -5.7018697e-03 -8.4119244e-03  6.2301029e-03\n",
            "  1.5843532e-03 -2.1078184e-03  9.6650980e-03  9.5163872e-03\n",
            " -9.8278057e-03  2.5304048e-03  6.1990274e-03  3.8504784e-03\n",
            "  1.7606119e-03  5.1954732e-04  8.0680702e-04 -3.7868279e-03\n",
            " -6.9723725e-03 -2.2601676e-03  3.6680698e-03  9.1945678e-03\n",
            "  9.3620559e-03 -6.2122396e-03 -9.5469495e-03  9.4422726e-03\n",
            "  3.4296762e-03  4.9271286e-03  6.1808215e-03 -2.7995037e-03\n",
            "  7.6790210e-03  2.8916618e-03  2.8206999e-03 -2.4461204e-03\n",
            " -2.9652829e-03 -2.1182632e-03  4.2809485e-03 -5.2898737e-05\n",
            " -9.4665568e-03 -9.7125992e-03 -6.2777144e-03  4.6278543e-05\n",
            "  2.0045773e-03  9.4259093e-03  5.3118961e-03 -4.1107913e-03\n",
            "  3.8496370e-04  4.9302862e-03  7.7416222e-03 -1.3626987e-03\n",
            "  4.0627378e-03 -5.6761727e-03 -6.1187538e-04  8.3816405e-03\n",
            " -2.7215849e-03 -9.4758235e-03  5.6295488e-03 -3.7671025e-03\n",
            " -1.0786240e-03  9.8367343e-03 -1.9868002e-03 -4.5429557e-03\n",
            " -5.1873010e-03  6.9153034e-03 -5.9358329e-03  2.2153822e-03\n",
            " -5.2702017e-03  6.2230043e-03  4.1790758e-03  2.8082358e-03\n",
            " -1.6191197e-03 -2.7485476e-03  9.1530876e-03  5.5526574e-03\n",
            " -1.8839812e-03 -9.6006682e-03 -7.2434517e-03 -7.6325919e-04\n",
            " -6.7958096e-04 -2.3649151e-03  1.0034027e-02 -1.8226184e-04\n",
            "  6.0768565e-03 -7.6305694e-03 -2.3696248e-03 -5.4886127e-03]\n"
          ]
        }
      ]
    },
    {
      "cell_type": "markdown",
      "source": [
        "### 2. Similarité entre deux mots"
      ],
      "metadata": {
        "id": "RoiGEYJoM96r"
      }
    },
    {
      "cell_type": "code",
      "source": [
        "similarity_score = model.wv.similarity(\"marrakech\", \"town\")\n",
        "print(\"Similarité entre 'marrakech' et 'town':\\t\", similarity_score)"
      ],
      "metadata": {
        "colab": {
          "base_uri": "https://localhost:8080/"
        },
        "id": "0OT_ieE0LJGk",
        "outputId": "a8dd7424-0027-4e18-b33e-f6e8f18ec5c4"
      },
      "execution_count": 9,
      "outputs": [
        {
          "output_type": "stream",
          "name": "stdout",
          "text": [
            "Similarité entre 'marrakech' et 'town':\t -0.13672188\n"
          ]
        }
      ]
    },
    {
      "cell_type": "markdown",
      "source": [
        "### **3**. Mots contextuels pour un mot central donné"
      ],
      "metadata": {
        "id": "C5YEWTKRMuDZ"
      }
    },
    {
      "cell_type": "code",
      "source": [
        "context_words = model.wv.most_similar(\"morocco\")\n",
        "print(\"Mots contextuels pour 'and':\\n\", context_words)"
      ],
      "metadata": {
        "colab": {
          "base_uri": "https://localhost:8080/"
        },
        "id": "Yeu-yfbMLV24",
        "outputId": "82946eb7-9fef-4548-f1ea-edd1c66bd3ed"
      },
      "execution_count": 11,
      "outputs": [
        {
          "output_type": "stream",
          "name": "stdout",
          "text": [
            "Mots contextuels pour 'and':\n",
            " [('comes', 0.3211769163608551), ('snow', 0.3105997145175934), ('mountains', 0.2844999432563782), ('against', 0.2412889003753662), ('berber', 0.20771968364715576), ('centuries', 0.20644252002239227), ('territory', 0.19421911239624023), ('culture', 0.19064638018608093), ('bahia', 0.190092071890831), ('travelers', 0.18810252845287323)]\n"
          ]
        }
      ]
    }
  ]
}